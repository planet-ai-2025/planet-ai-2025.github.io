{
  "nbformat": 4,
  "nbformat_minor": 0,
  "metadata": {
    "colab": {
      "provenance": []
    },
    "kernelspec": {
      "name": "python3",
      "display_name": "Python 3"
    },
    "language_info": {
      "name": "python"
    }
  },
  "cells": [
    {
      "cell_type": "code",
      "source": [
        "import numpy as np"
      ],
      "metadata": {
        "id": "-u7JvSeAaX8V"
      },
      "execution_count": 1,
      "outputs": []
    },
    {
      "cell_type": "code",
      "source": [
        "X = np.array([\n",
        "    [0, 0],\n",
        "    [0, 1],\n",
        "    [1, 0],\n",
        "    [1, 1]\n",
        "], dtype=np.float32)\n",
        "\n",
        "y = np.array([\n",
        "    [0],\n",
        "    [1],\n",
        "    [1],\n",
        "    [0]\n",
        "], dtype=np.float32)"
      ],
      "metadata": {
        "id": "Yb_2p1gWad6y"
      },
      "execution_count": 2,
      "outputs": []
    },
    {
      "cell_type": "code",
      "source": [
        "input_size = 2\n",
        "hidden_size = 2\n",
        "output_size = 1\n",
        "learning_rate = 0.1\n",
        "epochs = 5000"
      ],
      "metadata": {
        "id": "kat-P0qiahO4"
      },
      "execution_count": 3,
      "outputs": []
    },
    {
      "cell_type": "code",
      "execution_count": 4,
      "metadata": {
        "id": "EBzgf2tnZ5pU"
      },
      "outputs": [],
      "source": [
        "W1 = np.random.randn(input_size, hidden_size)\n",
        "b1 = np.zeros((1, hidden_size))\n",
        "\n",
        "W2 = np.random.randn(hidden_size, output_size)\n",
        "b2 = np.zeros((1, output_size))"
      ]
    },
    {
      "cell_type": "code",
      "source": [
        "def sigmoid(z):\n",
        "    return 1 / (1 + np.exp(-z))\n",
        "\n",
        "def sigmoid_deriv(z):\n",
        "    # derivative of sigmoid with respect to z\n",
        "    return sigmoid(z) * (1 - sigmoid(z))"
      ],
      "metadata": {
        "id": "vzljghYparXa"
      },
      "execution_count": 5,
      "outputs": []
    },
    {
      "cell_type": "code",
      "source": [
        "# Training loop\n",
        "\n",
        "for epoch in range(epochs):\n",
        "\n",
        "    z1 = X.dot(W1) + b1\n",
        "    a1 = sigmoid(z1)\n",
        "\n",
        "    z2 = a1.dot(W2) + b2\n",
        "    a2 = sigmoid(z2)\n",
        "\n",
        "\n",
        "    loss = np.mean((y - a2) ** 2)\n",
        "\n",
        "    d_loss_a2 = 2 * (a2 - y) / y.shape[0]\n",
        "\n",
        "    d_loss_z2 = d_loss_a2 * sigmoid_deriv(z2)\n",
        "\n",
        "    d_loss_W2 = a1.T.dot(d_loss_z2)\n",
        "    d_loss_b2 = np.sum(d_loss_z2, axis=0, keepdims=True)\n",
        "\n",
        "    d_loss_a1 = d_loss_z2.dot(W2.T)\n",
        "\n",
        "    d_loss_z1 = d_loss_a1 * sigmoid_deriv(z1)\n",
        "\n",
        "\n",
        "    d_loss_W1 = X.T.dot(d_loss_z1)\n",
        "    d_loss_b1 = np.sum(d_loss_z1, axis=0, keepdims=True)\n",
        "\n",
        "    W2 -= learning_rate * d_loss_W2\n",
        "    b2 -= learning_rate * d_loss_b2\n",
        "    W1 -= learning_rate * d_loss_W1\n",
        "    b1 -= learning_rate * d_loss_b1\n",
        "\n",
        "    if (epoch + 1) % 100 == 0:\n",
        "        print(f\"Epoch {epoch+1}/{epochs}, Loss: {loss:.4f}\")\n",
        "\n",
        "print(\"\\nFinal predictions after training:\")\n",
        "final_output = sigmoid(sigmoid(X.dot(W1) + b1).dot(W2) + b2)\n",
        "for i, (inp, out) in enumerate(zip(X, final_output)):\n",
        "    print(f\"Input: {inp}, Predicted: {out[0]:.4f}\")\n"
      ],
      "metadata": {
        "colab": {
          "base_uri": "https://localhost:8080/"
        },
        "id": "8bLrRhvVanu3",
        "outputId": "742fc411-56d6-4e01-9b02-c46cfe8c3e56"
      },
      "execution_count": 6,
      "outputs": [
        {
          "output_type": "stream",
          "name": "stdout",
          "text": [
            "Epoch 100/5000, Loss: 0.2498\n",
            "Epoch 200/5000, Loss: 0.2474\n",
            "Epoch 300/5000, Loss: 0.2452\n",
            "Epoch 400/5000, Loss: 0.2430\n",
            "Epoch 500/5000, Loss: 0.2408\n",
            "Epoch 600/5000, Loss: 0.2386\n",
            "Epoch 700/5000, Loss: 0.2363\n",
            "Epoch 800/5000, Loss: 0.2340\n",
            "Epoch 900/5000, Loss: 0.2316\n",
            "Epoch 1000/5000, Loss: 0.2291\n",
            "Epoch 1100/5000, Loss: 0.2267\n",
            "Epoch 1200/5000, Loss: 0.2243\n",
            "Epoch 1300/5000, Loss: 0.2218\n",
            "Epoch 1400/5000, Loss: 0.2194\n",
            "Epoch 1500/5000, Loss: 0.2171\n",
            "Epoch 1600/5000, Loss: 0.2149\n",
            "Epoch 1700/5000, Loss: 0.2127\n",
            "Epoch 1800/5000, Loss: 0.2106\n",
            "Epoch 1900/5000, Loss: 0.2087\n",
            "Epoch 2000/5000, Loss: 0.2068\n",
            "Epoch 2100/5000, Loss: 0.2051\n",
            "Epoch 2200/5000, Loss: 0.2034\n",
            "Epoch 2300/5000, Loss: 0.2019\n",
            "Epoch 2400/5000, Loss: 0.2004\n",
            "Epoch 2500/5000, Loss: 0.1990\n",
            "Epoch 2600/5000, Loss: 0.1978\n",
            "Epoch 2700/5000, Loss: 0.1966\n",
            "Epoch 2800/5000, Loss: 0.1954\n",
            "Epoch 2900/5000, Loss: 0.1944\n",
            "Epoch 3000/5000, Loss: 0.1934\n",
            "Epoch 3100/5000, Loss: 0.1925\n",
            "Epoch 3200/5000, Loss: 0.1916\n",
            "Epoch 3300/5000, Loss: 0.1908\n",
            "Epoch 3400/5000, Loss: 0.1900\n",
            "Epoch 3500/5000, Loss: 0.1893\n",
            "Epoch 3600/5000, Loss: 0.1886\n",
            "Epoch 3700/5000, Loss: 0.1879\n",
            "Epoch 3800/5000, Loss: 0.1873\n",
            "Epoch 3900/5000, Loss: 0.1867\n",
            "Epoch 4000/5000, Loss: 0.1861\n",
            "Epoch 4100/5000, Loss: 0.1856\n",
            "Epoch 4200/5000, Loss: 0.1851\n",
            "Epoch 4300/5000, Loss: 0.1846\n",
            "Epoch 4400/5000, Loss: 0.1842\n",
            "Epoch 4500/5000, Loss: 0.1837\n",
            "Epoch 4600/5000, Loss: 0.1833\n",
            "Epoch 4700/5000, Loss: 0.1829\n",
            "Epoch 4800/5000, Loss: 0.1826\n",
            "Epoch 4900/5000, Loss: 0.1822\n",
            "Epoch 5000/5000, Loss: 0.1818\n",
            "\n",
            "Final predictions after training:\n",
            "Input: [0. 0.], Predicted: 0.1428\n",
            "Input: [0. 1.], Predicted: 0.6411\n",
            "Input: [1. 0.], Predicted: 0.6482\n",
            "Input: [1. 1.], Predicted: 0.6741\n"
          ]
        }
      ]
    }
  ]
}